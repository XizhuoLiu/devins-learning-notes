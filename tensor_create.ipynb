{
 "cells": [
  {
   "cell_type": "code",
   "execution_count": 13,
   "id": "1e6d931f-1e6d-423d-8509-2905d4d325c8",
   "metadata": {},
   "outputs": [
    {
     "name": "stdout",
     "output_type": "stream",
     "text": [
      "tensor([[0, 0, 0],\n",
      "        [0, 0, 0]], dtype=torch.int32)\n",
      "tensor([[ 8176, 15808,   716],\n",
      "        [    0,     0,     0]], dtype=torch.int16)\n",
      "tensor([[0, 0, 0],\n",
      "        [0, 0, 0]])\n"
     ]
    }
   ],
   "source": [
    "import torch\n",
    "import numpy as np\n",
    "import random\n",
    "\n",
    "#根据已有数据创建张量\n",
    "def test01():\n",
    "\n",
    "    data = torch.tensor(10)    #创建标量\n",
    "    print(data)\n",
    "\n",
    "    #创建指定形状张量\n",
    "    data = np.random.randn(2, 3)   #numpy创建张量\n",
    "    data = torch.tensor(data)\n",
    "    print(data)\n",
    "\n",
    "    #使用list\n",
    "    data = [[10., 20., 30.], [40., 50., 60.]]\n",
    "    torch.tensor(data)\n",
    "    print(data)\n",
    "\n",
    "#创建指定形状张量\n",
    "def test02():\n",
    "\n",
    "    #创建两行三列张量\n",
    "    data = torch.Tensor(2, 3)\n",
    "    print(data)\n",
    "\n",
    "    #创建指定值张量\n",
    "    data = torch.Tensor([2, 3])    #传递列表\n",
    "    print(data)\n",
    "\n",
    "#创建指定类型\n",
    "def test03():\n",
    "\n",
    "    #前面都是默认类型\n",
    "    #创建一个 int 类型的张量\n",
    "    data = torch.IntTensor(2, 3)\n",
    "    print(data)\n",
    "\n",
    "    # torch.ShortTensor(2, 3)    #创建一个 int16 的张量\n",
    "    # torch.LongTensor(2, 3)    #创建一个 int32 的张量\n",
    "    # torch.FloatTensor(2, 3)    #float32\n",
    "\n",
    "\n",
    "    \n",
    "\n",
    "if __name__ == '__main__':\n",
    "    test03()\n",
    "    \n",
    "    "
   ]
  },
  {
   "cell_type": "code",
   "execution_count": null,
   "id": "fd020bad-88ea-46ec-9ad9-f5f5c552a730",
   "metadata": {},
   "outputs": [],
   "source": []
  }
 ],
 "metadata": {
  "kernelspec": {
   "display_name": "Python 3 (ipykernel)",
   "language": "python",
   "name": "python3"
  },
  "language_info": {
   "codemirror_mode": {
    "name": "ipython",
    "version": 3
   },
   "file_extension": ".py",
   "mimetype": "text/x-python",
   "name": "python",
   "nbconvert_exporter": "python",
   "pygments_lexer": "ipython3",
   "version": "3.12.4"
  }
 },
 "nbformat": 4,
 "nbformat_minor": 5
}
