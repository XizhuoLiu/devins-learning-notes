{
 "cells": [
  {
   "cell_type": "code",
   "execution_count": 1,
   "id": "9024f446-d1c3-411b-86af-ec1613691996",
   "metadata": {},
   "outputs": [],
   "source": [
    "import torch\n",
    "from torch import nn\n",
    "from torch.utils.data import DataLoader\n",
    "from torchvision import datasets\n",
    "from torchvision.transforms import ToTensor\n",
    "\n",
    "### Download training data from open datasets.\n",
    "training_data = datasets.FashionMNIST(\n",
    "    root=\"data\",\n",
    "    train=True,\n",
    "    download=True,\n",
    "    transform=ToTensor(),\n",
    ")\n",
    "\n",
    "### Download test data from open datasets.\n",
    "test_data = datasets.FashionMNIST(\n",
    "    root=\"data\",\n",
    "    train=False,\n",
    "    download=True,\n",
    "    transform=ToTensor(),\n",
    ")"
   ]
  },
  {
   "cell_type": "code",
   "execution_count": 2,
   "id": "a43b46db-0117-416d-85ab-dddbc917b503",
   "metadata": {},
   "outputs": [
    {
     "name": "stdout",
     "output_type": "stream",
     "text": [
      "Shape of X [N, C, H, W]: torch.Size([64, 1, 28, 28])\n",
      "Shpae of y: torch.Size([64]) torch.int64\n"
     ]
    }
   ],
   "source": [
    "batch_size = 64\n",
    "\n",
    "# Create Data Loaders.\n",
    "train_dataloader = DataLoader(training_data, batch_size=batch_size)\n",
    "test_dataloader = DataLoader(test_data, batch_size=batch_size)\n",
    "\n",
    "for X, y in test_dataloader:\n",
    "    print(f\"Shape of X [N, C, H, W]: {X.shape}\")\n",
    "    print(f\"Shpae of y: {y.shape} {y.dtype}\")\n",
    "    break"
   ]
  },
  {
   "cell_type": "code",
   "execution_count": 3,
   "id": "d263f1ce-9f32-4d61-affa-62dde38335cf",
   "metadata": {},
   "outputs": [
    {
     "name": "stdout",
     "output_type": "stream",
     "text": [
      "Using cuda device\n",
      "NeuralNetwork(\n",
      "  (flatten): Flatten(start_dim=1, end_dim=-1)\n",
      "  (linear_relu_stack): Sequential(\n",
      "    (0): Linear(in_features=784, out_features=512, bias=True)\n",
      "    (1): ReLU()\n",
      "    (2): Linear(in_features=512, out_features=512, bias=True)\n",
      "    (3): ReLU()\n",
      "    (4): Linear(in_features=512, out_features=10, bias=True)\n",
      "  )\n",
      ")\n"
     ]
    }
   ],
   "source": [
    "### Creating Models\n",
    "\n",
    "device = torch.accelerator.current_accelerator().type if torch.accelerator.is_available() else \"cpu\"\n",
    "print(f\"Using {device} device\")\n",
    "\n",
    "#Define model\n",
    "\n",
    "class NeuralNetwork(nn.Module):\n",
    "    def __init__(self):\n",
    "        super().__init__()\n",
    "        self.flatten = nn.Flatten()\n",
    "        self.linear_relu_stack = nn.Sequential(\n",
    "            nn.Linear(28*28, 512),\n",
    "            nn.ReLU(),\n",
    "            nn.Linear(512, 512),\n",
    "            nn.ReLU(),\n",
    "            nn.Linear(512, 10)\n",
    "        )\n",
    "\n",
    "    def forward(self, x):\n",
    "        x = self.flatten(x)\n",
    "        logits = self.linear_relu_stack(x)\n",
    "        return logits\n",
    "\n",
    "model = NeuralNetwork().to(device)\n",
    "print(model)\n"
   ]
  },
  {
   "cell_type": "code",
   "execution_count": 4,
   "id": "879bd220-0177-4d90-ac38-41848c29c1c9",
   "metadata": {},
   "outputs": [],
   "source": [
    "### Optimizing the model Parameters\n",
    "\n",
    "loss_fn = nn.CrossEntropyLoss()\n",
    "optimizer = torch.optim.SGD(model.parameters(), lr=1e-3)\n"
   ]
  },
  {
   "cell_type": "code",
   "execution_count": 5,
   "id": "340e1e70-ce66-4d75-8f83-fec87cbf5c63",
   "metadata": {},
   "outputs": [],
   "source": [
    "### single training loop\n",
    "\n",
    "def train(dataloader, model, loss_fn, optimizer):\n",
    "    size = len(dataloader.dataset)\n",
    "    model.train()\n",
    "    for batch, (X, y) in enumerate(dataloader):\n",
    "        X, y = X.to(device), y.to(device)\n",
    "\n",
    "        #compute loss\n",
    "        pred = model(X)\n",
    "        loss = loss_fn(pred, y)\n",
    "\n",
    "        #backward\n",
    "        loss.backward()\n",
    "        optimizer.step()\n",
    "        optimizer.zero_grad()\n",
    "\n",
    "        if batch % 100 == 0:\n",
    "            loss, current = loss.item(), (batch + 1)* len(X)\n",
    "            print(f\"loss: {loss:>7f}  [{current:>5d}/{size:>5d}]\")  ##loss_width=7,float  5 string,d:10进制\n"
   ]
  },
  {
   "cell_type": "code",
   "execution_count": 10,
   "id": "befea682-48d9-4f9a-84e4-e38a8d21052e",
   "metadata": {},
   "outputs": [],
   "source": [
    "### check the performance\n",
    "\n",
    "def test(dataloader, model, loss_fn):\n",
    "    size = len(dataloader.dataset)\n",
    "    num_batches = len(dataloader)\n",
    "    model.eval()\n",
    "    test_loss, correct = 0, 0\n",
    "    with torch.no_grad():\n",
    "        for X, y in dataloader:\n",
    "            X, y = X.to(device), y.to(device)\n",
    "            pred = model(X)\n",
    "            test_loss += loss_fn(pred, y).item()\n",
    "            correct += (pred.argmax(1) == y).type(torch.float).sum().item()\n",
    "    test_loss /= num_batches\n",
    "    correct /= size\n",
    "\n",
    "    print(f\"Test Error: \\n Accuracy: {(100*correct):>0.1f}%, Avg loss: {test_loss:>8f}\\n \")\n",
    "    "
   ]
  },
  {
   "cell_type": "code",
   "execution_count": 11,
   "id": "e5554f85-88ee-4455-b7a0-c68e73a92f28",
   "metadata": {},
   "outputs": [
    {
     "name": "stdout",
     "output_type": "stream",
     "text": [
      "Epoch 1\n",
      "-----------------------------\n",
      "loss: 1.890875  [   64/60000]\n",
      "loss: 1.849900  [ 6464/60000]\n",
      "loss: 1.735275  [12864/60000]\n",
      "loss: 1.794975  [19264/60000]\n",
      "loss: 1.660897  [25664/60000]\n",
      "loss: 1.623014  [32064/60000]\n",
      "loss: 1.662954  [38464/60000]\n",
      "loss: 1.560716  [44864/60000]\n",
      "loss: 1.588566  [51264/60000]\n",
      "loss: 1.490581  [57664/60000]\n",
      "Test Error: \n",
      " Accuracy: 62.4%, Avg loss: 1.503347\n",
      " \n",
      "Epoch 2\n",
      "-----------------------------\n",
      "loss: 1.568778  [   64/60000]\n",
      "loss: 1.524631  [ 6464/60000]\n",
      "loss: 1.382412  [12864/60000]\n",
      "loss: 1.463117  [19264/60000]\n",
      "loss: 1.332255  [25664/60000]\n",
      "loss: 1.337029  [32064/60000]\n",
      "loss: 1.360004  [38464/60000]\n",
      "loss: 1.287936  [44864/60000]\n",
      "loss: 1.319512  [51264/60000]\n",
      "loss: 1.221579  [57664/60000]\n",
      "Test Error: \n",
      " Accuracy: 63.7%, Avg loss: 1.245505\n",
      " \n",
      "Epoch 3\n",
      "-----------------------------\n",
      "loss: 1.322134  [   64/60000]\n",
      "loss: 1.295523  [ 6464/60000]\n",
      "loss: 1.138849  [12864/60000]\n",
      "loss: 1.245902  [19264/60000]\n",
      "loss: 1.112734  [25664/60000]\n",
      "loss: 1.144398  [32064/60000]\n",
      "loss: 1.172067  [38464/60000]\n",
      "loss: 1.113923  [44864/60000]\n",
      "loss: 1.148582  [51264/60000]\n",
      "loss: 1.064791  [57664/60000]\n",
      "Test Error: \n",
      " Accuracy: 64.8%, Avg loss: 1.082994\n",
      " \n",
      "Epoch 4\n",
      "-----------------------------\n",
      "loss: 1.152981  [   64/60000]\n",
      "loss: 1.149364  [ 6464/60000]\n",
      "loss: 0.976298  [12864/60000]\n",
      "loss: 1.110121  [19264/60000]\n",
      "loss: 0.975391  [25664/60000]\n",
      "loss: 1.013369  [32064/60000]\n",
      "loss: 1.057279  [38464/60000]\n",
      "loss: 1.001686  [44864/60000]\n",
      "loss: 1.036259  [51264/60000]\n",
      "loss: 0.968398  [57664/60000]\n",
      "Test Error: \n",
      " Accuracy: 65.8%, Avg loss: 0.978150\n",
      " \n",
      "Epoch 5\n",
      "-----------------------------\n",
      "loss: 1.033944  [   64/60000]\n",
      "loss: 1.054383  [ 6464/60000]\n",
      "loss: 0.863859  [12864/60000]\n",
      "loss: 1.020403  [19264/60000]\n",
      "loss: 0.887825  [25664/60000]\n",
      "loss: 0.920917  [32064/60000]\n",
      "loss: 0.983201  [38464/60000]\n",
      "loss: 0.928041  [44864/60000]\n",
      "loss: 0.957513  [51264/60000]\n",
      "loss: 0.904052  [57664/60000]\n",
      "Test Error: \n",
      " Accuracy: 67.1%, Avg loss: 0.906722\n",
      " \n"
     ]
    }
   ],
   "source": [
    "epochs = 5\n",
    "for t in range(epochs):\n",
    "    print(f\"Epoch {t+1}\\n-----------------------------\")\n",
    "    train(train_dataloader, model, loss_fn, optimizer)\n",
    "    test(test_dataloader, model, loss_fn)\n",
    "print(\"Done!\")"
   ]
  },
  {
   "cell_type": "code",
   "execution_count": 12,
   "id": "0b1661e7-ba17-47ee-8dfd-6f666302a879",
   "metadata": {},
   "outputs": [
    {
     "name": "stdout",
     "output_type": "stream",
     "text": [
      "Save Pytorch Model State to model.pth\n"
     ]
    }
   ],
   "source": [
    "### saving models\n",
    "\n",
    "torch.save(model.state_dict(),\"model.pth\")\n",
    "print(\"Save Pytorch Model State to model.pth\")"
   ]
  },
  {
   "cell_type": "code",
   "execution_count": 13,
   "id": "5a221af6-e181-4103-b123-d4a58404f423",
   "metadata": {},
   "outputs": [
    {
     "data": {
      "text/plain": [
       "<All keys matched successfully>"
      ]
     },
     "execution_count": 13,
     "metadata": {},
     "output_type": "execute_result"
    }
   ],
   "source": [
    "### Loading models\n",
    "\n",
    "model = NeuralNetwork().to(device)\n",
    "model.load_state_dict(torch.load(\"model.pth\", weights_only=True))"
   ]
  },
  {
   "cell_type": "code",
   "execution_count": 15,
   "id": "dcf1c701-8f64-4f48-bf0c-f3325267dc68",
   "metadata": {},
   "outputs": [
    {
     "name": "stdout",
     "output_type": "stream",
     "text": [
      "Predicted: \"Ankle boot, Actual: \"Ankle boot\"\n"
     ]
    }
   ],
   "source": [
    "### use the model to make predictions\n",
    "\n",
    "classes = [\n",
    "    \"T-shirt/top\",\n",
    "    \"Trouser\",\n",
    "    \"Pullover\",\n",
    "    \"Dress\",\n",
    "    \"Coat\",\n",
    "    \"Sandal\",\n",
    "    \"Shirt\",\n",
    "    \"Sneaker\",\n",
    "    \"Bag\",\n",
    "    \"Ankle boot\",\n",
    "]\n",
    "\n",
    "model.eval()\n",
    "x, y = test_data[0][0], test_data[0][1]\n",
    "with torch.no_grad():\n",
    "    x = x.to(device)\n",
    "    pred = model(x)\n",
    "    predicted, actual = classes[pred[0].argmax(0)], classes[y]\n",
    "    print(f'Predicted: \"{predicted}, Actual: \"{actual}\"') "
   ]
  },
  {
   "cell_type": "code",
   "execution_count": null,
   "id": "4cd6100c-2738-4098-aced-64a85ed68118",
   "metadata": {},
   "outputs": [],
   "source": []
  },
  {
   "cell_type": "code",
   "execution_count": null,
   "id": "b004c324-b4ce-4ea7-8a3c-ba2c8675ca28",
   "metadata": {},
   "outputs": [],
   "source": []
  },
  {
   "cell_type": "code",
   "execution_count": null,
   "id": "e33650e0-30a5-4cd5-9843-c326bbea0178",
   "metadata": {},
   "outputs": [],
   "source": [
    "\n",
    "\n",
    "\n",
    "\n",
    "\n",
    "\n",
    "\n",
    "\n"
   ]
  }
 ],
 "metadata": {
  "kernelspec": {
   "display_name": "Python 3 (ipykernel)",
   "language": "python",
   "name": "python3"
  },
  "language_info": {
   "codemirror_mode": {
    "name": "ipython",
    "version": 3
   },
   "file_extension": ".py",
   "mimetype": "text/x-python",
   "name": "python",
   "nbconvert_exporter": "python",
   "pygments_lexer": "ipython3",
   "version": "3.12.4"
  }
 },
 "nbformat": 4,
 "nbformat_minor": 5
}
